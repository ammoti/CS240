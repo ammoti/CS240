{
 "cells": [
  {
   "cell_type": "code",
   "execution_count": 11,
   "metadata": {
    "collapsed": true
   },
   "outputs": [],
   "source": [
    "#Question 1\n",
    "import nsfg\n",
    "pres = nsfg.ReadFemResp()"
   ]
  },
  {
   "cell_type": "code",
   "execution_count": 12,
   "metadata": {
    "collapsed": false
   },
   "outputs": [
    {
     "name": "stdout",
     "output_type": "stream",
     "text": [
      "There are 7643 rows and 3087 columns\n"
     ]
    }
   ],
   "source": [
    "#Question 2\n",
    "pres.columns\n",
    "pres.head(20)\n",
    "pres.tail(30)\n",
    "print(\"There are \"+str(len(pres.index))+\" rows and \"+str(len(pres.count()))+\" columns\")"
   ]
  },
  {
   "cell_type": "code",
   "execution_count": 13,
   "metadata": {
    "collapsed": false
   },
   "outputs": [
    {
     "data": {
      "text/plain": [
       "44"
      ]
     },
     "execution_count": 13,
     "metadata": {},
     "output_type": "execute_result"
    }
   ],
   "source": [
    "#Question 3\n",
    "ages = pres[\"agescrn\"]\n",
    "ages.value_counts()\n",
    "ages.min()\n",
    "ages.max()"
   ]
  },
  {
   "cell_type": "code",
   "execution_count": 14,
   "metadata": {
    "collapsed": false
   },
   "outputs": [
    {
     "data": {
      "text/plain": [
       "4.0"
      ]
     },
     "execution_count": 14,
     "metadata": {},
     "output_type": "execute_result"
    }
   ],
   "source": [
    "#Question 4\n",
    "numpre = pres.numpregs\n",
    "numpre\n",
    "numpre[2298]"
   ]
  },
  {
   "cell_type": "code",
   "execution_count": 15,
   "metadata": {
    "collapsed": false
   },
   "outputs": [
    {
     "data": {
      "text/plain": [
       "0.709143268538517"
      ]
     },
     "execution_count": 15,
     "metadata": {},
     "output_type": "execute_result"
    }
   ],
   "source": [
    "#Question 5\n",
    "average = pres.numpregs[pres.agescrn<=25]\n",
    "average.mean()"
   ]
  },
  {
   "cell_type": "code",
   "execution_count": 16,
   "metadata": {
    "collapsed": false
   },
   "outputs": [
    {
     "data": {
      "text/plain": [
       "2.0"
      ]
     },
     "execution_count": 16,
     "metadata": {},
     "output_type": "execute_result"
    }
   ],
   "source": [
    "#Question 6\n",
    "average2 = pres.numpregs[pres.agescrn.max()]\n",
    "average2.mean()"
   ]
  },
  {
   "cell_type": "code",
   "execution_count": 17,
   "metadata": {
    "collapsed": false
   },
   "outputs": [
    {
     "name": "stdout",
     "output_type": "stream",
     "text": [
      "There are 7643 rows and 3087 columns\n"
     ]
    },
    {
     "data": {
      "text/plain": [
       "2.0"
      ]
     },
     "execution_count": 17,
     "metadata": {},
     "output_type": "execute_result"
    }
   ],
   "source": [
    "#Question All\n",
    "import nsfg\n",
    "pres = nsfg.ReadFemResp()\n",
    "pres.columns\n",
    "pres.head(20)\n",
    "pres.tail(30)\n",
    "print(\"There are \"+str(len(pres.index))+\" rows and \"+str(len(pres.count()))+\" columns\")\n",
    "ages = pres[\"agescrn\"]\n",
    "ages.value_counts()\n",
    "ages.min()\n",
    "ages.max()\n",
    "numpre = pres.numpregs\n",
    "numpre[2298]\n",
    "average = pres.numpregs[pres.agescrn<=25]\n",
    "average.mean()\n",
    "average2 = pres.numpregs[pres.agescrn.max()]\n",
    "average2.mean()"
   ]
  },
  {
   "cell_type": "code",
   "execution_count": null,
   "metadata": {
    "collapsed": true
   },
   "outputs": [],
   "source": []
  }
 ],
 "metadata": {
  "kernelspec": {
   "display_name": "Python 3",
   "language": "python",
   "name": "python3"
  },
  "language_info": {
   "codemirror_mode": {
    "name": "ipython",
    "version": 3
   },
   "file_extension": ".py",
   "mimetype": "text/x-python",
   "name": "python",
   "nbconvert_exporter": "python",
   "pygments_lexer": "ipython3",
   "version": "3.6.0"
  }
 },
 "nbformat": 4,
 "nbformat_minor": 2
}
