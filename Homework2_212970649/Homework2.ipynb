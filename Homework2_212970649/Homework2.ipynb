{
 "cells": [
  {
   "cell_type": "code",
   "execution_count": 33,
   "metadata": {
    "collapsed": true
   },
   "outputs": [],
   "source": [
    "#Question 1\n",
    "%matplotlib inline\n",
    "import thinkstats2\n",
    "import nsfg\n",
    "import thinkplot\n",
    "pres = nsfg.ReadFemResp()\n",
    "firstMarriage = pres.fmar1age\n",
    "\n"
   ]
  },
  {
   "cell_type": "code",
   "execution_count": 34,
   "metadata": {
    "collapsed": false
   },
   "outputs": [
    {
     "data": {
      "text/plain": [
       "9.0       1\n",
       "11.0      2\n",
       "12.0      1\n",
       "13.0      3\n",
       "14.0     18\n",
       "15.0     50\n",
       "16.0    115\n",
       "17.0    173\n",
       "18.0    342\n",
       "19.0    328\n",
       "20.0    353\n",
       "21.0    364\n",
       "22.0    381\n",
       "23.0    359\n",
       "24.0    285\n",
       "25.0    261\n",
       "26.0    233\n",
       "27.0    177\n",
       "28.0    150\n",
       "29.0    129\n",
       "30.0     97\n",
       "31.0     72\n",
       "32.0     52\n",
       "33.0     49\n",
       "34.0     29\n",
       "35.0     35\n",
       "36.0     14\n",
       "37.0     14\n",
       "38.0     10\n",
       "39.0     10\n",
       "40.0      7\n",
       "41.0      6\n",
       "42.0      3\n",
       "43.0      3\n",
       "Name: fmar1age, dtype: int64"
      ]
     },
     "execution_count": 34,
     "metadata": {},
     "output_type": "execute_result"
    }
   ],
   "source": [
    "firstMarriage.value_counts().sort_index()"
   ]
  },
  {
   "cell_type": "code",
   "execution_count": 35,
   "metadata": {
    "collapsed": false
   },
   "outputs": [
    {
     "data": {
      "image/png": "[encoded data removed]",
      "text/plain": [
       "<matplotlib.figure.Figure at 0x1bdabfbf358>"
      ]
     },
     "metadata": {},
     "output_type": "display_data"
    },
    {
     "data": {
      "text/plain": [
       "<matplotlib.figure.Figure at 0x1bd9f0cc6d8>"
      ]
     },
     "metadata": {},
     "output_type": "display_data"
    }
   ],
   "source": [
    "firstMarriage_hist = thinkstats2.Hist(firstMarriage)\n",
    "thinkplot.Hist(firstMarriage_hist)\n",
    "thinkplot.Show(xlabel='Age',ylabel='Counts')"
   ]
  },
  {
   "cell_type": "code",
   "execution_count": 36,
   "metadata": {
    "collapsed": false
   },
   "outputs": [
    {
     "data": {
      "text/plain": [
       "0    3517\n",
       "1    3436\n",
       "2     582\n",
       "3      90\n",
       "4      15\n",
       "5       3\n",
       "Name: fmarno, dtype: int64"
      ]
     },
     "execution_count": 36,
     "metadata": {},
     "output_type": "execute_result"
    }
   ],
   "source": [
    "#Question 2\n",
    "\n",
    "numberMarriage = pres.fmarno\n",
    "numberMarriage.value_counts().sort_index()"
   ]
  },
  {
   "cell_type": "code",
   "execution_count": 37,
   "metadata": {
    "collapsed": false
   },
   "outputs": [
    {
     "data": {
      "image/png": "[encoded data removed]",
      "text/plain": [
       "<matplotlib.figure.Figure at 0x1bd9ccdbfd0>"
      ]
     },
     "metadata": {},
     "output_type": "display_data"
    },
    {
     "data": {
      "text/plain": [
       "<matplotlib.figure.Figure at 0x1bd9dda2cf8>"
      ]
     },
     "metadata": {},
     "output_type": "display_data"
    }
   ],
   "source": [
    "numberMarriage_hist = thinkstats2.Hist(numberMarriage)\n",
    "thinkplot.Hist(numberMarriage_hist)\n",
    "thinkplot.Show(xlabel='Time of Married',ylabel='Counts')"
   ]
  },
  {
   "cell_type": "code",
   "execution_count": 38,
   "metadata": {
    "collapsed": false
   },
   "outputs": [
    {
     "data": {
      "text/plain": [
       "1      299\n",
       "2      301\n",
       "3      266\n",
       "4      421\n",
       "5      445\n",
       "6      559\n",
       "7      583\n",
       "8      606\n",
       "9      607\n",
       "10     468\n",
       "11     647\n",
       "12     658\n",
       "13     623\n",
       "14    1160\n",
       "Name: totincr, dtype: int64"
      ]
     },
     "execution_count": 38,
     "metadata": {},
     "output_type": "execute_result"
    }
   ],
   "source": [
    "#Question 3\n",
    "totalIncome = pres.totincr\n",
    "totalIncome.value_counts().sort_index()"
   ]
  },
  {
   "cell_type": "code",
   "execution_count": 39,
   "metadata": {
    "collapsed": false
   },
   "outputs": [
    {
     "data": {
      "image/png": "[encoded data removed]",
      "text/plain": [
       "<matplotlib.figure.Figure at 0x1bda723fa90>"
      ]
     },
     "metadata": {},
     "output_type": "display_data"
    },
    {
     "data": {
      "text/plain": [
       "<matplotlib.figure.Figure at 0x1bda7212860>"
      ]
     },
     "metadata": {},
     "output_type": "display_data"
    }
   ],
   "source": [
    "totalIncome_hist = thinkstats2.Hist(totalIncome)\n",
    "thinkplot.Hist(totalIncome_hist)\n",
    "thinkplot.Show(xlabel='Value',ylabel='Total')"
   ]
  },
  {
   "cell_type": "code",
   "execution_count": 40,
   "metadata": {
    "collapsed": false
   },
   "outputs": [
    {
     "data": {
      "image/png": "[encoded data removed]",
      "text/plain": [
       "<matplotlib.figure.Figure at 0x1bdaaac35c0>"
      ]
     },
     "metadata": {},
     "output_type": "display_data"
    }
   ],
   "source": [
    "#Question 4\n",
    "married,neverMarried = pres[pres.fmarno>=1],pres[pres.fmarno==0]\n",
    "married_hist = thinkstats2.Hist(married.totincr, label='Married')\n",
    "neverMarried_hist = thinkstats2.Hist(neverMarried.totincr, label='Never Married')\n",
    "thinkplot.PrePlot(2)\n",
    "thinkplot.Hist(married_hist, align='right', width=0.45)\n",
    "thinkplot.Hist(neverMarried_hist, align='left', width=0.45)\n",
    "thinkplot.Config(xlabel='Value', ylabel='Income')"
   ]
  },
  {
   "cell_type": "code",
   "execution_count": 41,
   "metadata": {
    "collapsed": false
   },
   "outputs": [
    {
     "name": "stdout",
     "output_type": "stream",
     "text": [
      "Never Married Mean :8.020756326414558, Never Married Var :15.846838676954563, Never Married Std :3.9808087968344528 Never Married Min Value :1,Never Married Max Value :14,Married Mean :9.495152690256907, Married Var :13.79864316455874, Married Std :3.71465249580075 Married Min Value :1,Married Max Value :14,\n"
     ]
    }
   ],
   "source": [
    "#Question 5\n",
    "NeverMean = neverMarried.totincr.mean()\n",
    "NeverVar = neverMarried.totincr.var()\n",
    "NeverStd = neverMarried.totincr.std()\n",
    "NeverMinValue = neverMarried.totincr.min()\n",
    "NeverMaxValue = neverMarried.totincr.max()\n",
    "\n",
    "mean = married.totincr.mean()\n",
    "var = married.totincr.var()\n",
    "std = married.totincr.std()\n",
    "minValue = married.totincr.min()\n",
    "maxValue = married.totincr.max()\n",
    "print(\"Never Married Mean :{}, Never Married Var :{}, Never Married Std :{} Never Married Min Value :{},Never Married Max Value :{},Married Mean :{}, Married Var :{}, Married Std :{} Married Min Value :{},Married Max Value :{},\".format(NeverMean,NeverVar,NeverStd,NeverMinValue,NeverMaxValue,mean,var,std,minValue,maxValue))\n"
   ]
  }
 ],
 "metadata": {
  "kernelspec": {
   "display_name": "Python 3",
   "language": "python",
   "name": "python3"
  },
  "language_info": {
   "codemirror_mode": {
    "name": "ipython",
    "version": 3
   },
   "file_extension": ".py",
   "mimetype": "text/x-python",
   "name": "python",
   "nbconvert_exporter": "python",
   "pygments_lexer": "ipython3",
   "version": "3.6.0"
  }
 },
 "nbformat": 4,
 "nbformat_minor": 2
}
