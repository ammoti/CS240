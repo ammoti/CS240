{
 "cells": [
  {
   "cell_type": "code",
   "execution_count": 12,
   "metadata": {
    "collapsed": true
   },
   "outputs": [],
   "source": [
    "#Question 1\n",
    "import thinkstats2\n",
    "import nsfg\n",
    "import thinkplot\n",
    "pres = nsfg.ReadFemResp()\n",
    "firstMarriage = pres.fmar1age\n",
    "firstMarriage.value_counts().sort_index()\n",
    "firstMarriage_hist = thinkstats2.Hist(firstMarriage)"
   ]
  },
  {
   "cell_type": "code",
   "execution_count": 13,
   "metadata": {
    "collapsed": false
   },
   "outputs": [
    {
     "data": {
      "text/plain": [
       "Hist({0: 3517, 1: 3436, 2: 582, 3: 90, 4: 15, 5: 3})"
      ]
     },
     "execution_count": 13,
     "metadata": {},
     "output_type": "execute_result"
    }
   ],
   "source": [
    "#Question 2\n",
    "\n",
    "numberMarriage = pres.fmarno\n",
    "numberMarriage\n",
    "numberMarriage.value_counts().sort_index()\n",
    "numberMarriage_hist = thinkstats2.Hist(numberMarriage)\n",
    "numberMarriage_hist"
   ]
  },
  {
   "cell_type": "code",
   "execution_count": 14,
   "metadata": {
    "collapsed": false
   },
   "outputs": [
    {
     "data": {
      "text/plain": [
       "Hist({14: 1160, 12: 658, 11: 647, 13: 623, 9: 607, 8: 606, 7: 583, 6: 559, 10: 468, 5: 445, 4: 421, 2: 301, 1: 299, 3: 266})"
      ]
     },
     "execution_count": 14,
     "metadata": {},
     "output_type": "execute_result"
    }
   ],
   "source": [
    "#Question 3\n",
    "totalIncome = pres.totincr\n",
    "totalIncome\n",
    "totalIncome.value_counts().sort_index()\n",
    "totalIncome_hist = thinkstats2.Hist(totalIncome)\n",
    "totalIncome_hist"
   ]
  },
  {
   "cell_type": "code",
   "execution_count": 15,
   "metadata": {
    "collapsed": true
   },
   "outputs": [],
   "source": [
    "#Question 4\n",
    "married,neverMarried = pres[pres.fmarno>=1],pres[pres.fmarno==0]\n",
    "married_hist = thinkstats2.Hist(married.totincr, label='Married')\n",
    "neverMarried_hist = thinkstats2.Hist(neverMarried.totincr, label='Never Married')\n",
    "thinkplot.PrePlot(2)\n",
    "thinkplot.Hist(married_hist, align='right', width=0.45)\n",
    "thinkplot.Hist(neverMarried_hist, align='left', width=0.45)\n",
    "thinkplot.Config(xlabel='Count', ylabel='Income')"
   ]
  },
  {
   "cell_type": "code",
   "execution_count": 17,
   "metadata": {
    "collapsed": false
   },
   "outputs": [
    {
     "name": "stdout",
     "output_type": "stream",
     "text": [
      "Never Married Mean :8.020756326414558, Never Married Var :15.846838676954563, Never Married Std :3.9808087968344528 Never Married Min Value :1,Never Married Max Value :14,Married Mean :9.495152690256907, Married Var :13.79864316455874, Married Std :3.71465249580075 Married Min Value :1,Married Max Value :14,\n"
     ]
    }
   ],
   "source": [
    "#Question 5\n",
    "NeverMean = neverMarried.totincr.mean()\n",
    "NeverVar = neverMarried.totincr.var()\n",
    "NeverStd = neverMarried.totincr.std()\n",
    "NeverMinValue = neverMarried.totincr.min()\n",
    "NeverMaxValue = neverMarried.totincr.max()\n",
    "\n",
    "mean = married.totincr.mean()\n",
    "var = married.totincr.var()\n",
    "std = married.totincr.std()\n",
    "minValue = married.totincr.min()\n",
    "maxValue = married.totincr.max()\n",
    "print(\"Never Married Mean :{}, Never Married Var :{}, Never Married Std :{} Never Married Min Value :{},Never Married Max Value :{},Married Mean :{}, Married Var :{}, Married Std :{} Married Min Value :{},Married Max Value :{},\".format(NeverMean,NeverVar,NeverStd,NeverMinValue,NeverMaxValue,mean,var,std,minValue,maxValue))\n"
   ]
  }
 ],
 "metadata": {
  "kernelspec": {
   "display_name": "Python 3",
   "language": "python",
   "name": "python3"
  },
  "language_info": {
   "codemirror_mode": {
    "name": "ipython",
    "version": 3
   },
   "file_extension": ".py",
   "mimetype": "text/x-python",
   "name": "python",
   "nbconvert_exporter": "python",
   "pygments_lexer": "ipython3",
   "version": "3.6.0"
  }
 },
 "nbformat": 4,
 "nbformat_minor": 2
}
